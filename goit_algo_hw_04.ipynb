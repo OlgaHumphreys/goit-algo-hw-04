{
  "nbformat": 4,
  "nbformat_minor": 0,
  "metadata": {
    "colab": {
      "provenance": [],
      "authorship_tag": "ABX9TyP+ht5T61o2XZlwEtetEvpU",
      "include_colab_link": true
    },
    "kernelspec": {
      "name": "python3",
      "display_name": "Python 3"
    },
    "language_info": {
      "name": "python"
    }
  },
  "cells": [
    {
      "cell_type": "markdown",
      "metadata": {
        "id": "view-in-github",
        "colab_type": "text"
      },
      "source": [
        "<a href=\"https://colab.research.google.com/github/OlgaHumphreys/goit-algo-hw-04/blob/main/goit_algo_hw_04.ipynb\" target=\"_parent\"><img src=\"https://colab.research.google.com/assets/colab-badge.svg\" alt=\"Open In Colab\"/></a>"
      ]
    },
    {
      "cell_type": "code",
      "source": [
        "def merge_sort(arr):\n",
        "    if len(arr) > 1:\n",
        "        mid = len(arr) // 2\n",
        "        L = arr[:mid]\n",
        "        R = arr[mid:]\n",
        "\n",
        "        merge_sort(L)\n",
        "        merge_sort(R)\n",
        "\n",
        "        i = j = k = 0\n",
        "\n",
        "        while i < len(L) and j < len(R):\n",
        "            if L[i] < R[j]:\n",
        "                arr[k] = L[i]\n",
        "                i += 1\n",
        "            else:\n",
        "                arr[k] = R[j]\n",
        "                j += 1\n",
        "            k += 1\n",
        "\n",
        "        while i < len(L):\n",
        "            arr[k] = L[i]\n",
        "            i += 1\n",
        "            k += 1\n",
        "\n",
        "        while j < len(R):\n",
        "            arr[k] = R[j]\n",
        "            j += 1\n",
        "            k += 1\n"
      ],
      "metadata": {
        "id": "rTKY9saWppU5"
      },
      "execution_count": null,
      "outputs": []
    },
    {
      "cell_type": "code",
      "source": [
        "def insertion_sort(arr):\n",
        "    for i in range(1, len(arr)):\n",
        "        key = arr[i]\n",
        "        j = i - 1\n",
        "        while j >= 0 and key < arr[j]:\n",
        "            arr[j + 1] = arr[j]\n",
        "            j -= 1\n",
        "        arr[j + 1] = key\n"
      ],
      "metadata": {
        "id": "8A0MFBtCpuHq"
      },
      "execution_count": null,
      "outputs": []
    },
    {
      "cell_type": "markdown",
      "source": [
        "Timsort (вбудовані функції Python):\n",
        "sorted - повертає новий відсортований список\n",
        "list.sort - сортує список на місці\n",
        "Порівняння часу виконання:\n",
        "Ми будемо використовувати модуль timeit для вимірювання часу виконання кожного алгоритму на різних наборах даних. Для цього ми створимо функції для запуску кожного алгоритму і виміряємо час виконання на випадкових масивах різних розмірів.\n",
        "\n"
      ],
      "metadata": {
        "id": "BWbHlHxKpxb4"
      }
    },
    {
      "cell_type": "code",
      "source": [
        "import timeit\n",
        "import random\n",
        "\n",
        "def measure_time(sort_function, arr):\n",
        "    setup_code = f\"from __main__ import {sort_function.__name__}\"\n",
        "    test_code = f\"{sort_function.__name__}({arr})\"\n",
        "    times = timeit.repeat(stmt=test_code, setup=setup_code, repeat=5, number=1)\n",
        "    return min(times)\n",
        "\n",
        "def main():\n",
        "    sizes = [100, 1000, 5000, 10000]\n",
        "    for size in sizes:\n",
        "        arr = [random.randint(0, 100000) for _ in range(size)]\n",
        "\n",
        "        arr_copy = arr[:]\n",
        "        time_merge_sort = measure_time(merge_sort, arr_copy)\n",
        "\n",
        "        arr_copy = arr[:]\n",
        "        time_insertion_sort = measure_time(insertion_sort, arr_copy)\n",
        "\n",
        "        arr_copy = arr[:]\n",
        "        time_timsort_sorted = measure_time(sorted, arr_copy)\n",
        "\n",
        "        arr_copy = arr[:]\n",
        "        time_timsort_sort = measure_time(lambda x: x.sort(), arr_copy)\n",
        "\n",
        "        print(f\"Array size: {size}\")\n",
        "        print(f\"Merge Sort: {time_merge_sort:.6f} seconds\")\n",
        "        print(f\"Insertion Sort: {time_insertion_sort:.6f} seconds\")\n",
        "        print(f\"Timsort (sorted): {time_timsort_sorted:.6f} seconds\")\n",
        "        print(f\"Timsort (list.sort): {time_timsort_sort:.6f} seconds\")\n",
        "        print()\n",
        "\n",
        "if __name__ == \"__main__\":\n",
        "    main()\n"
      ],
      "metadata": {
        "id": "bBniPtDUp2nJ"
      },
      "execution_count": null,
      "outputs": []
    },
    {
      "cell_type": "markdown",
      "source": [],
      "metadata": {
        "id": "ILhELTkuqB8Y"
      }
    }
  ]
}